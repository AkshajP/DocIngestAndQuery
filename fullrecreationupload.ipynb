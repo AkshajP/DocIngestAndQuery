{
 "cells": [
  {
   "cell_type": "code",
   "execution_count": null,
   "id": "f8787ee7",
   "metadata": {},
   "outputs": [],
   "source": [
    "%%no-script\n",
    "git clone -b release-1.2.2 https://github.com/opendatalab/MinerU.git\n",
    "pip install \".[full]\" --extra-index-url https://wheels.myhloli.com\n",
    "pip install huggingface_hub\n",
    "curl -o download_models_hf.py https://raw.githubusercontent.com/opendatalab/MinerU/release-1.2.2/scripts/download_models_hf.py\n",
    "python download_models_hf.py\n",
    "-- Edit the config file."
   ]
  },
  {
   "cell_type": "markdown",
   "id": "4b093673",
   "metadata": {},
   "source": [
    "| Feature               | TableMaster                       | StructEqTable (InternVL2-1B) | RapidTable (slanet_plus)  | RapidTable (unitable)    |\n",
    "|-----------------------|-----------------------------------|------------------------------|---------------------------|--------------------------|\n",
    "| Accuracy              | High (PubTabNet: 96.76 TEDS)      | High                         | High                      | Highest                  |\n",
    "| Speed                 | Slow                              | Fast (on GPU A100)           | Very Fast                 | Slower (1.5s on GPU 4090)|\n",
    "| Resource Usage        | High (24GB+ VRAM potentially)     | High (GPU required)          | Low                       | Moderate (GPU recommended)|\n",
    "| CUDA Required         | Likely (recommended)              | Yes (GPU only)               | Yes (optional)            | Yes (recommended)         |\n",
    "| Output Format         | HTML                              | LaTeX, HTML, Markdown        | HTML                      | HTML                     |\n",
    "| Dependencies          | PaddlePaddle                      | InternVL2, PyTorch           | ONNX Runtime              | PyTorch                  |\n",
    "| MinerU Versions       | 0.7.1 - early 0.9.3              | 0.9.2 onwards                | 0.9.3 onwards             | 0.9.3 onwards            |\n"
   ]
  },
  {
   "cell_type": "code",
   "execution_count": null,
   "id": "81c18fa4",
   "metadata": {},
   "outputs": [],
   "source": [
    "from mineru_ingester import ingest_pdf\n",
    "result = ingest_pdf('../output10.pdf')"
   ]
  },
  {
   "cell_type": "code",
   "execution_count": null,
   "id": "5ea8806b",
   "metadata": {},
   "outputs": [],
   "source": [
    "result"
   ]
  },
  {
   "cell_type": "code",
   "execution_count": null,
   "id": "8a19a5a6",
   "metadata": {},
   "outputs": [],
   "source": [
    "result = ingest_pdf('../output10.pdf')\n",
    "## with LLM AID - didnt work, there is no code for it. "
   ]
  }
 ],
 "metadata": {
  "kernelspec": {
   "display_name": "fullrecreationupload",
   "language": "python",
   "name": "python3"
  },
  "language_info": {
   "codemirror_mode": {
    "name": "ipython",
    "version": 3
   },
   "file_extension": ".py",
   "mimetype": "text/x-python",
   "name": "python",
   "nbconvert_exporter": "python",
   "pygments_lexer": "ipython3",
   "version": "3.10.16"
  }
 },
 "nbformat": 4,
 "nbformat_minor": 5
}
